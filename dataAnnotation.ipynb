{
 "cells": [
  {
   "cell_type": "code",
   "execution_count": null,
   "metadata": {},
   "outputs": [],
   "source": [
    "import torch\n",
    "import gc\n",
    "import pandas as pd\n",
    "from transformers import AutoModelForCausalLM, AutoTokenizer, BitsAndBytesConfig"
   ]
  },
  {
   "cell_type": "markdown",
   "metadata": {
    "id": "vzrwTLCY6jMH"
   },
   "source": [
    "## Load dataset"
   ]
  },
  {
   "cell_type": "markdown",
   "metadata": {
    "vscode": {
     "languageId": "r"
    }
   },
   "source": [
    "In this step, we load our French text dataset from a JSON file and prepare it for summarization. The file containing 5,598 entries, we select the 5,000 longest texts for our summarization task.\n",
    "\n",
    "The histogram below shows the distribution of text lengths in our selected dataset. Longer texts provide a more challenging and interesting summarization task, allowing the model to demonstrate its ability to extract key information from substantial content.\n"
   ]
  },
  {
   "cell_type": "code",
   "execution_count": null,
   "metadata": {
    "colab": {
     "base_uri": "https://localhost:8080/"
    },
    "executionInfo": {
     "elapsed": 1305,
     "status": "ok",
     "timestamp": 1741455049222,
     "user": {
      "displayName": "Fiscow Support Team",
      "userId": "04919406603213740756"
     },
     "user_tz": -60
    },
    "id": "Ax6SiauY6sJZ",
    "outputId": "623cbf57-3b80-440e-9a75-8edd677f1571"
   },
   "outputs": [
    {
     "name": "stdout",
     "output_type": "stream",
     "text": [
      "      instruction_id                                        instruction  \\\n",
      "0  bpt6k103200m_p227  Il n'y a pas longtemps que noae avons découver...   \n",
      "1  bpt6k103200m_p247  Mais, quand nous disons ce désert, c'est dans ...   \n",
      "2  bpt6k103227z_p113  Et Mlle Fanny, gagnée par cetenthousiasme, rép...   \n",
      "3  bpt6k103227z_p151  Eh bien, reprit là mère, nous nous lèverons de...   \n",
      "4  bpt6k103227z_p254  Monsieur le docteur, dit respectueusement M. H...   \n",
      "\n",
      "                                              output input  \n",
      "0  Le lupeux est un être franchement désagréable....        \n",
      "1  Ils ont pour nous le mérite de ne rien dérange...        \n",
      "2  Un soir, comme les fillettes venaient de se co...        \n",
      "3  Je pense que cela fera plaisir aussi à nos Par...        \n",
      "4  Pendant ma classe d'histoire, il m'avait inter...        \n"
     ]
    },
    {
     "data": {
      "image/png": "[encoded data removed]",
      "text/plain": [
       "<Figure size 640x480 with 1 Axes>"
      ]
     },
     "metadata": {},
     "output_type": "display_data"
    }
   ],
   "source": [
    "df = pd.read_json(\"../data/instruct_fr_novel19.json\")\n",
    "print(df.head())\n",
    "\n",
    "df_text = df[\"instruction\"]\n",
    "df_text = df_text.sort_values(key = lambda x: x.apply(len), ascending=False)\n",
    "df_text = df_text[:5000]\n",
    "df_text['length'] = df_text.apply(len)\n",
    "df_text['length'].plot.hist(bins=50)\n",
    "\n",
    "texts = df_text.to_list()"
   ]
  },
  {
   "cell_type": "code",
   "execution_count": 13,
   "metadata": {
    "executionInfo": {
     "elapsed": 898,
     "status": "ok",
     "timestamp": 1741455050589,
     "user": {
      "displayName": "Fiscow Support Team",
      "userId": "04919406603213740756"
     },
     "user_tz": -60
    },
    "id": "EuHmYbHb-kdM"
   },
   "outputs": [
    {
     "data": {
      "application/vnd.jupyter.widget-view+json": {
       "model_id": "91b9e4c641c94af6ac318e0a7f50d5a3",
       "version_major": 2,
       "version_minor": 0
      },
      "text/plain": [
       "VBox(children=(HTML(value='<center> <img\\nsrc=https://huggingface.co/front/assets/huggingface_logo-noborder.sv…"
      ]
     },
     "metadata": {},
     "output_type": "display_data"
    }
   ],
   "source": [
    "from huggingface_hub import notebook_login\n",
    "notebook_login()"
   ]
  },
  {
   "cell_type": "markdown",
   "metadata": {
    "id": "i_x1t3ed8waX"
   },
   "source": [
    "## Load the model"
   ]
  },
  {
   "cell_type": "markdown",
   "metadata": {},
   "source": [
    "In the next cell, we'll load the Mistral-7B-Instruct-v0.2 model. This is a powerful 7B parameter instruction-tuned language model that can be used for various text generation tasks, including the summarization task we're working on.\n",
    "\n",
    "We're applying 4-bit quantization through BitsAndBytes to reduce memory requirements while maintaining good performance. This configuration:\n",
    "- Loads the model in 4-bit precision\n",
    "- Uses float16 for compute operations\n",
    "- Applies double quantization for further memory optimization\n",
    "- Uses \"nf4\" (normalized float 4) quantization type\n",
    "- Automatically places model weights on the available GPU using device_map=\"auto\"\n",
    "\n",
    "This approach allows us to work with this large language model in a constrainted environment.\n"
   ]
  },
  {
   "cell_type": "code",
   "execution_count": 14,
   "metadata": {
    "colab": {
     "base_uri": "https://localhost:8080/",
     "height": 418,
     "referenced_widgets": [
      "c9d70f55182f4394bc6dea48e878d33f",
      "dbc08809777b4923b534bfe19b066d45",
      "44846b4212da4e1c933c7b3f59dcb49a",
      "15a12022677746cfb02b556f7931c692",
      "f31b306376d745a99fe4ee2d22a185d3",
      "2f57978e6cab42f99c773ff3e8c3688b",
      "bf0f5669782a4e30835faeab45ae3b99",
      "fc940b0580de4e10a152e642af30ce01",
      "577a51e6b0f34d5889a711213f775533",
      "bc88751a65bd4239884dad5e3c9acaf2",
      "c99fca70cbbb41b69dc5b145e58e59ea",
      "cc41055afb174b1987ef4d84bccf3cf2",
      "15ac9ed3647b45f595867a0406828841",
      "0f69a3ced2f54a2fbc5dfb9cdfca2c9e",
      "8c957613d58f4826b858c3211b0502ab",
      "7d1781bd00ea4f49816e22a95bb51723",
      "7b996ff18e1140bf82e7fc1ee5df9784",
      "b98aa38190e347bcb642008a47997239",
      "2ca7ff5e2006435892b68c9e93b741bb",
      "0ae8036bb9f04192b676b04b06b1b1e9",
      "bcec47f4e87a4071918140101b4c75c2",
      "0f42b9e373a44fb99abfc07df31605bb",
      "0b3bae6caf204f93aab4c827dae6baba",
      "ef4381b421064210b7a6d55de7a09e2d",
      "5528b6dad1d14339a76c935317986bde",
      "f204948087514292971ec2cbffb31e82",
      "b2b4b529d6374a5d92206e5cd6016d7f",
      "0470fa1d0d2a465dab75438fad36ccdc",
      "fb68a3387c2f4ab5966be227821db670",
      "ebb317375a754624bcbc9824bed74745",
      "52b043b77e7343f08adc36cb8cc2c85a",
      "94fde15fa437456d8f1eea62f330e401",
      "a80b3c621817441d8ab054128769ee73",
      "83a23df77544408db40b9613e14e7850",
      "8fe6a64d50e64587b3780a9d48ee4cae",
      "21152f0639c4455d9e00bd7b7e58204f",
      "7619d6b0622d4c13b8a90c219eca4032",
      "b5fa979ee3fd47579bbbb985a2912c67",
      "1a4056d253cb47aa8693556878283b6f",
      "112b3ae91c5848bf80a258ebd8ac5478",
      "2e42f997dbda491bb47afffc622a4280",
      "ef7ab5db2cdd49b9addd6a0fed242064",
      "d93dfe36dbe5430e926774e014c25c34",
      "2f6594c9d0284239a62fa3a372685e23",
      "03ce525f7faa429cbd37e18f6722e95c",
      "50535c8e7ae34687a09e0fbc6f8f9895",
      "646279951c564ca28f08499b6b8961ac",
      "91c2e96a1816453ea7c50b34c2f40bf6",
      "c48f38945e2f480d9b968d243a7ae87a",
      "d5239bdd27c34b969d22c36a5c177c18",
      "da9d9a38f4c644279c8c9f88aed059ec",
      "7a9be1063a4d4a3d9bb39b87fc1e1eef",
      "274a4de927984ac69ed2498b8922d42c",
      "256d3cd5fcd047d2a7884261cce9051c",
      "936cd85e3e7244b5a8a5d8cbc619e118",
      "ccc2cad7e76d42b99badad5e8c1691fc",
      "650332b90abf4bfd9a0c7d6a5b016849",
      "8f559be79e0a433b89766a260e482c6c",
      "110c6b56461b4c3bac22c78a4ff920e7",
      "8e452d49e60440a09060b9d03add2cdf",
      "4980743dec2c408eb5c837218d525461",
      "4dbacd2c823941b993a432d79589814b",
      "b3337f7cf7914924a016bf40c7046dfd",
      "45b54e7738ea4e16a106ccd623638106",
      "69bc22a55f13480cabb69b722ac36636",
      "b39fdc4970e94453b261fd2fb19d57b2",
      "fbee6942bb7c4f1eaab02af4cda8d19d",
      "c1dab21aa3ee41f39daafc47c0fc3383",
      "621690605b984e60bfc7fd1dd3366bef",
      "37370c9bb39a45c1a5a37144246b1098",
      "0cee1602d9c24e40a6da0165469e1ccf",
      "18a5da719fd34be592770d87697e632d",
      "7fd28350b7274d6e81a8f7630df52d82",
      "5d7c088c288046efb3e41c61affdda7a",
      "5d1603ee9ae34a109941d2e92e20842e",
      "8ae6c9ac2ec6442facd45920b87f0ddb",
      "f57a33eb624240969c47dbb10d895cc9",
      "e9726e2263684b92a4c0e277f04b3601",
      "82e1e0fd652a4434b0d20648768efa6a",
      "82a49643419346cd87fcc60a8165525b",
      "1266a96d6278428eacfc40794541b0f5",
      "521111ae25e44c59b25de5d4be3e76f1",
      "5b98b736787842a8b39cf257b7295186",
      "2dff2e50d5f040e38c83ccdb92168ed4",
      "abe70c672e1144d0aee5b02cbe39ca67",
      "66f6c1b1292a485dba31b214c294695f",
      "9dcd9f2b0d2c4178a64899c779eb31eb",
      "f56516db94f34e07af2bfaa01b901de8",
      "d608eb116fd64f388dccdb15b6bfe198",
      "17cafe4a03e34ce693c475342f869b9e",
      "b8a14e75c5614f759b839898e5547939",
      "d556a4adbefb40e4b3a9a3a300d977d3",
      "8541da3de2e343249e9c3555fc81238b",
      "f28d1b6395524d059b2d63c37b40dfbf",
      "6bbcb2536f664eb39f6f055d35b596fe",
      "0fef60c092e74c0790f4ddf920896651",
      "c82fd6876cb44bb99b8678d0a751e5d0",
      "ae8b3e71e0db45a2bbe22590bcd80ebd",
      "24c77ae337dd4416a6c7591004f713b4",
      "1db1201a2ace4361a65f5c33ec1e6fef",
      "3f8ef1a01fe549ae8f8aef1ddd8cd00b",
      "26e4f21d5fd94d48ae5dbfc1a043e9e6",
      "f5bead302e4341619757dcf45341ff4f",
      "9b4144b0b0b14a00a516b188351d3c24",
      "fe258b3a73aa4a8c8ebfd0c32d3f8b91",
      "5f9ed028d9784bcf86a616d99db093eb",
      "9a2d54eb78344a4a9cfdcfc390eac7ce",
      "67fe085d2ba04e039d392a3bb3ec6dfd",
      "69ef37e9121c4fad99edd719505b6540",
      "f9d64eabc37e42d8bee0649e787e6548",
      "55f0e986887145f198c8638b1582a366",
      "8d0d684cab8d4c63a47dc7fdfaeacd3e",
      "24579d1464f9487c8b4fa35f1ce788d6",
      "cfca17b698854c65b094248a1fb77201",
      "17e6692c62ce44ccb9a616265c1e75b3",
      "b898cc7a2623439291493ffb08c19e6a",
      "4e1b3dea1147434ca0274e3d61cd1278",
      "35c252c659ad4b0ab0889384f020c5c5",
      "0d2afb0b4662463dae7b23e88e5fc9fb",
      "65aa07bc15ba4949ba6b3136576ee846",
      "2c82774a1ae94ed8851f9decc2d91cff",
      "e9075a85c0654967906d5e6c8880b93a",
      "52bcc8a9d8ed4f95af669549b5744e00",
      "c2d14d6ad0ff4573aa22ac9d20671186",
      "ff5eee915e194dccb02c6adb89cf5ba7",
      "a9dd97cda2c847a19052b51532b774e1",
      "d2ca631bdb1c4a29910caa52f5fdada6",
      "8e505c5d72694da58628d00b4f33a151",
      "634c4eb0e7744191902b895d655c8770",
      "ba54a44d9e4a41f1b46e605f72fc5f98",
      "a7018aab428d4184964a42ab0c00fd04",
      "5353a4d41d9242aabe747b351e566ec2"
     ]
    },
    "executionInfo": {
     "elapsed": 187851,
     "status": "ok",
     "timestamp": 1741455239029,
     "user": {
      "displayName": "Fiscow Support Team",
      "userId": "04919406603213740756"
     },
     "user_tz": -60
    },
    "id": "x6cGyleX7ste",
    "outputId": "4cb4314b-e447-443c-c023-553ca37ca298"
   },
   "outputs": [
    {
     "data": {
      "application/vnd.jupyter.widget-view+json": {
       "model_id": "6d5ebee16aa14b58884801ea3c63b25b",
       "version_major": 2,
       "version_minor": 0
      },
      "text/plain": [
       "Loading checkpoint shards:   0%|          | 0/3 [00:00<?, ?it/s]"
      ]
     },
     "metadata": {},
     "output_type": "display_data"
    }
   ],
   "source": [
    "model_name = \"mistralai/Mistral-7B-Instruct-v0.2\"\n",
    "\n",
    "quantization_config = BitsAndBytesConfig(\n",
    "    load_in_4bit=True,\n",
    "    bnb_4bit_compute_dtype=torch.float16,\n",
    "    bnb_4bit_use_double_quant=True,\n",
    "    bnb_4bit_quant_type=\"nf4\",\n",
    ")\n",
    "\n",
    "tokenizer = AutoTokenizer.from_pretrained(model_name)\n",
    "tokenizer.pad_token = tokenizer.eos_token\n",
    "\n",
    "model = AutoModelForCausalLM.from_pretrained(\n",
    "    model_name,\n",
    "    device_map=\"auto\",\n",
    "    quantization_config=quantization_config\n",
    ")"
   ]
  },
  {
   "cell_type": "markdown",
   "metadata": {
    "id": "fME1qgKOCQRc"
   },
   "source": [
    "### Testing Summarization on a Sample Document"
   ]
  },
  {
   "cell_type": "markdown",
   "metadata": {
    "vscode": {
     "languageId": "r"
    }
   },
   "source": [
    "This summarize_text function generates concise summaries from French texts using a the model. It wraps each input text in a prompt that instructs the model to create a summary with specific formatting requirements.\n",
    "\n",
    "We tokenize these prompts and sends them to the model's device for processing. Then,  the model produces summary texts that follows the given instructions.\n",
    "\n"
   ]
  },
  {
   "cell_type": "code",
   "execution_count": null,
   "metadata": {
    "executionInfo": {
     "elapsed": 49,
     "status": "ok",
     "timestamp": 1741455239035,
     "user": {
      "displayName": "Fiscow Support Team",
      "userId": "04919406603213740756"
     },
     "user_tz": -60
    },
    "id": "NL0hhAIGQ56D"
   },
   "outputs": [],
   "source": [
    "def summarize_text(batch_texts, max_input_length=50000, max_new_tokens=500):\n",
    "    prompt = [\n",
    "        \"Voici un texte en français :\\n\" \n",
    "        + text\n",
    "        + \"\\n\\n\"\n",
    "        + \"Fais un résumé en français et seulement en français concis et informatif de 3 à 5 phrases.\"\n",
    "        + \"Le résultat doit être un texte continu sans retour à la ligne. \"\n",
    "        + \"N'utilise ni tirets, ni numérotation, ni sauts de ligne.\\n\\n\"\n",
    "        + \"Résumé :\\n\"\n",
    "        for text in batch_texts\n",
    "    ]\n",
    "\n",
    "    inputs = tokenizer(prompt, return_tensors=\"pt\", max_length=max_input_length, truncation=True, padding=True).to(model.device)\n",
    "\n",
    "    with torch.no_grad():\n",
    "        summary_ids = model.generate(\n",
    "            inputs.input_ids,\n",
    "            attention_mask=inputs.attention_mask,\n",
    "            pad_token_id=tokenizer.eos_token_id,\n",
    "            max_new_tokens=max_new_tokens,\n",
    "            temperature = 0.4,\n",
    "            num_beams=5,\n",
    "            top_p=0.9,\n",
    "            early_stopping=True,\n",
    "            do_sample=True\n",
    "        )\n",
    "\n",
    "    input_length = inputs.input_ids.shape[1]\n",
    "    summaries = [\n",
    "        tokenizer.decode(summary_ids[i][input_length:], skip_special_tokens=True)\n",
    "        for i in range(len(batch_texts))\n",
    "    ]\n",
    "\n",
    "    return summaries"
   ]
  },
  {
   "cell_type": "code",
   "execution_count": 6,
   "metadata": {
    "executionInfo": {
     "elapsed": 6,
     "status": "ok",
     "timestamp": 1741455239037,
     "user": {
      "displayName": "Fiscow Support Team",
      "userId": "04919406603213740756"
     },
     "user_tz": -60
    },
    "id": "zHfcnrkl829d"
   },
   "outputs": [],
   "source": [
    "i = 10\n",
    "sample_texts = texts[i:i+1]\n",
    "summary = summarize_text(sample_texts)"
   ]
  },
  {
   "cell_type": "code",
   "execution_count": 7,
   "metadata": {},
   "outputs": [
    {
     "name": "stdout",
     "output_type": "stream",
     "text": [
      "Text: DU MÊME AUTEUR: ROMANS ET NOUVELLES L'Agonie de l'Amour — La Fête Nocturne — Vous qui faites l'endormie... — Les Sangsues — Le Jeune Homme au Masque — L'Ecole des Mariages — Le Démon de la Vie — Le Reste est Silence... — Les Amours Perdues — Le Boudoir de Proserpine — L'Eventail de Crêpe — L'Incertaine — Fumées dans la Campagne — Au-dessus de la Ville — La Fin d'un beau Jour — L'Escalier d'Or — Les Profondeurs de la Mer — L'Alcyone — La Branche Morte — La Fugitive — Soleils Disparus — Lætitia — Les Barricades Mystérieuses — 0 Toi que j'eusse aimée !... — L'Amour de Cécile Fougères — L'Age d'Or — Dessins aux Trois Crayons — Le Rayon dans le Brouillard — La Balance Faussée — Sous les Oliviers de Bohême — Le Voyageur — La Grenade Mordue — Le Roman Inachevé — Les Routes du Bel Univers — Le Dernier Jour de la Création — La Capricieuse — L'Oiseau-Lyre — La Chute d'Icare — L'Egarée — Les Visiteurs — Le Vent souffle sur la Flamme — Le Pouvoir des Choses — La Comédie Féminine — Le Culte Secret — Les Figures de Cire.\n",
      "Summary: L'Agonie de l'Amour : Un homme d'âge mûr réfléchit sur sa vie amoureuse passée, marquée par la perte de l'amour de sa vie.\n",
      "La Fête Nocturne : Des jeunes gens se livrent à l'amour et à la débauche durant une fête nocturne.\n",
      "Vous qui faites l'endormie... : Un homme raconte une histoire d'amour à une jeune fille avant qu'elle s'endorme.\n",
      "Les Sangsues : Une femme se souvient de son amour passionnel pour un vampire.\n",
      "Le Jeune Homme au Masque : Un jeune homme tombe amoureux d'une femme masquée à une fête masquée.\n",
      "L'Ecole des Mariages : Une jeune fille découvre les secrets de l'amour à l'école des mariages.\n",
      "Le Démon de la Vie : Un homme fait un pacte avec un démon pour retrouver l'amour de sa vie.\n",
      "Le Reste est Silence... : Un homme raconte une histoire d'amour interrompue par la guerre.\n",
      "Les Amours Perdues : Un homme réfléchit sur les amours perdues de sa vie et tente de les retrouver.\n",
      "Le Boudoir de Proserpine : Une femme se souvient de ses amours passées dans le boudoir de Proserpine.\n",
      "L'Eventail de Crêpe : Un homme raconte une histoire d'amour à une jeune fille à l'aide d'un eventail de crêpe.\n",
      "L'Incertaine : Un homme tombe amoureux d'une femme qui ne sait pas si elle l'aime ou non.\n",
      "Fumées dans la Campagne : Un homme se souvient de son amour pour une femme qu'il a rencontrée dans la campagne.\n",
      "Au-dessus de la Ville : Un homme raconte une histoire d'amour à une jeune fille au-dessus de la ville.\n",
      "La Fin d'un beau Jour\n",
      "\n",
      "\n"
     ]
    }
   ],
   "source": [
    "for text, sum in zip(sample_texts, summary):\n",
    "    print(f\"Text: {text}\\nSummary: {sum}\\n\\n\")"
   ]
  },
  {
   "cell_type": "markdown",
   "metadata": {},
   "source": [
    "## Dataset annotation"
   ]
  },
  {
   "cell_type": "markdown",
   "metadata": {},
   "source": [
    "We generate summaries in batch to prevent memory issues and keep a save in case of interruption."
   ]
  },
  {
   "cell_type": "code",
   "execution_count": null,
   "metadata": {},
   "outputs": [],
   "source": [
    "all_summaries = []\n",
    "batch_size = 10\n",
    "checkpoint_file = \"text_summaries_checkpoint.csv\"\n",
    "\n",
    "for start in range(0, len(texts), batch_size):\n",
    "\n",
    "    torch.cuda.empty_cache()\n",
    "    gc.collect()\n",
    "\n",
    "    batch_texts = texts[start:start + batch_size]\n",
    "    batch_summaries = summarize_text(batch_texts)\n",
    "    for text, summ in zip(batch_texts, batch_summaries):\n",
    "        all_summaries.append({\"text\": text, \"summary\": summ})\n",
    "        \n",
    "    if (start // batch_size + 1) % 10 == 0:\n",
    "        pd.DataFrame(all_summaries).to_csv(checkpoint_file, index=False)\n",
    "        print(f\"Checkpoint saved at batch {start // batch_size + 1}\")\n",
    "\n",
    "result_df = pd.DataFrame(all_summaries)\n",
    "result_df.to_csv(\"final_texts.csv\", index=False)"
   ]
  },
  {
   "cell_type": "code",
   "execution_count": null,
   "metadata": {},
   "outputs": [
    {
     "name": "stdout",
     "output_type": "stream",
     "text": [
      "5000\n"
     ]
    },
    {
     "data": {
      "text/plain": [
       "0       Ces livres : \"Bido,iiille\", \"Les Audiences joy...\n",
       "1       Un homme nommé Suétone Lénis, un chevalier rom...\n",
       "2       Léon de Rinsau, écrivain aristocratique et ana...\n",
       "3       Le frère Cristoforo demande au frère gardien l...\n",
       "4       Charlus veut montrer son amour pour Morel aux ...\n",
       "                              ...                        \n",
       "4995    Un homme attend sous la pluie pour obtenir la ...\n",
       "4996    Mademoiselle Ingénio demande à l'auteur si Mad...\n",
       "4997    Maurice regarde le dos de Nangès, qui part, do...\n",
       "4998    Euphémin Gourbillon amuse la société en montra...\n",
       "4999    Un ange seul, animé par la présence de son maî...\n",
       "Name: summary, Length: 5000, dtype: object"
      ]
     },
     "execution_count": 15,
     "metadata": {},
     "output_type": "execute_result"
    }
   ],
   "source": [
    "loaded_df = pd.read_csv(\"../data/final_texts.csv\")\n",
    "\n",
    "print(len(loaded_df))\n",
    "loaded_df.head()\n",
    "loaded_df[\"summary\"]"
   ]
  }
 ],
 "metadata": {
  "accelerator": "GPU",
  "colab": {
   "authorship_tag": "ABX9TyN+08TW1SkvefEnvxBDgl7F",
   "gpuType": "T4",
   "provenance": []
  },
  "kernelspec": {
   "display_name": "ai",
   "language": "python",
   "name": "python3"
  },
  "language_info": {
   "codemirror_mode": {
    "name": "ipython",
    "version": 3
   },
   "file_extension": ".py",
   "mimetype": "text/x-python",
   "name": "python",
   "nbconvert_exporter": "python",
   "pygments_lexer": "ipython3",
   "version": "3.12.12"
  }
 },
 "nbformat": 4,
 "nbformat_minor": 0
}
